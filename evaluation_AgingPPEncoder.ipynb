{
 "cells": [
  {
   "cell_type": "code",
   "execution_count": 1,
   "metadata": {},
   "outputs": [],
   "source": [
    "import xgboost as xgb\n",
    "import numpy as np\n",
    "import pandas as pd"
   ]
  },
  {
   "cell_type": "code",
   "execution_count": 2,
   "metadata": {},
   "outputs": [],
   "source": [
    "# Metric\n",
    "def mape(y_true, y_pred): \n",
    "    # Mean Absolute Percentage Error (mape)\n",
    "    assert(min(y_true) > 0)\n",
    "    y_true, y_pred = np.array(y_true), np.array(y_pred)\n",
    "    relative_error = np.abs((y_true-y_pred)/y_true)\n",
    "    return np.sum(relative_error)/len(y_true)"
   ]
  },
  {
   "cell_type": "code",
   "execution_count": 2,
   "metadata": {},
   "outputs": [],
   "source": [
    "### Uncomment the rest of this cell to directly apply the AgingPP Encoder, which takes \n",
    "### a long time. Otherwise the rest of the process is done with the preencoded sets\n",
    "### ./unshuffled/train_unshuffled_AgingPP.csv \n",
    "### ./unshuffled/train_unshuffled_AgingPP.csv\n",
    "\n",
    "#train = pd.read_csv('./unshuffled/train_unshuffled.csv', header=None)\n",
    "#test = pd.read_csv('./unshuffled/test_unshuffled.csv', header=None)\n",
    "#Xtrain = train[train.columns[:-1]]\n",
    "#ytrain = train[train.columns[-1]]\n",
    "#Xtest = test[test.columns[:-1]]\n",
    "#ytest = test[test.columns[-1]]\n",
    "\n",
    "## Entity Embedding Encoder\n",
    "#import sys\n",
    "#sys.path.append('./encoders/')\n",
    "#from pattern_preserving import AgingPPEncoder\n",
    "#aging = AgingPPEncoder()\n",
    "\n",
    "## Fit encoder\n",
    "#tic = time.perf_counter()\n",
    "#Xtrain = aging.fit_transform(Xtrain, ytrain)\n",
    "#toc = time.perf_counter()\n",
    "#print(\"Fitting completed in \",round(toc-tic,2), \"sec\")\n",
    "#Xtest = aging.transform(Xtest)\n",
    "\n",
    "#dtrain = xgb.DMatrix(Xtrain, label=ytrain)\n",
    "#dtest = Xtest\n",
    "#dtest.columns = ['0', '1', '2', '3', '4', '5', '6']\n",
    "#dtest = xgb.DMatrix(dtest, label=ytest)"
   ]
  },
  {
   "cell_type": "markdown",
   "metadata": {},
   "source": [
    "### XGBOOST "
   ]
  },
  {
   "cell_type": "code",
   "execution_count": 3,
   "metadata": {},
   "outputs": [
    {
     "name": "stdout",
     "output_type": "stream",
     "text": [
      "[21:50:00] 200000x7 matrix with 1400000 entries loaded from ./unshuffled/train_unshuffled_AgingPP.csv?format=csv&label_column=7\n"
     ]
    }
   ],
   "source": [
    "### Comment out this whole cell if the previous one was uncommented\n",
    "dtrain = xgb.DMatrix('./unshuffled/train_unshuffled_AgingPP.csv?format=csv&label_column=7')\n",
    "test = pd.read_csv('./unshuffled/test_unshuffled_AgingPP.csv', header=None)\n",
    "ytrue = test[test.columns[-1]]\n",
    "test = test[test.columns[:-1]]\n",
    "test.columns = ['f0', 'f1', 'f2', 'f3', 'f4', 'f5', 'f6']\n",
    "dtest = xgb.DMatrix(test, label=ytrue)"
   ]
  },
  {
   "cell_type": "code",
   "execution_count": 4,
   "metadata": {},
   "outputs": [],
   "source": [
    "# Parameters, taken from 'Entity Embeddings of Categorical Variables'\n",
    "param = {'max_depth': 10, 'eta': 0.02, 'objective': 'reg:squarederror', 'colsample_bytree': 0.7, 'subsample': 0.7}\n",
    "param['nthread'] = 6\n",
    "param['eval_metric'] = 'mae'\n",
    "param['verbosity'] = 0\n",
    "evallist = [(dtest, 'eval'), (dtrain, 'train')]\n",
    "# Training\n",
    "num_round = 3000\n",
    "bst = xgb.train(param, dtrain, num_round)#, evallist)\n",
    "#bst.save_model('xgboost_model')"
   ]
  },
  {
   "cell_type": "code",
   "execution_count": 5,
   "metadata": {},
   "outputs": [],
   "source": [
    "# Load model if trained earlier\n",
    "#bst = xgb.Booster({'nthread': 4})  # init model\n",
    "#bst.load_model('xgboost_model')  # load data\n",
    "# Evaluation on test data\n",
    "file = open('results.txt', 'a+') \n",
    "file.write(' xgboost: '+str(mape(ytrue, bst.predict(dtest)))+'\\n')\n",
    "file.close()"
   ]
  },
  {
   "cell_type": "markdown",
   "metadata": {},
   "source": [
    "### KNN"
   ]
  },
  {
   "cell_type": "code",
   "execution_count": 8,
   "metadata": {},
   "outputs": [],
   "source": [
    "### Comment out this whole cell if the 3th cell was uncommented\n",
    "# Load data for scikit-learn models\n",
    "train = pd.read_csv('./unshuffled/train_unshuffled_AgingPP.csv', header=None)\n",
    "ytrain = train[train.columns[-1]]\n",
    "Xtrain = train[train.columns[:-1]]\n",
    "#test data\n",
    "test = pd.read_csv('./unshuffled/test_unshuffled_AgingPP.csv', header=None)\n",
    "ytest = test[test.columns[-1]]\n",
    "Xtest = test[test.columns[:-1]]"
   ]
  },
  {
   "cell_type": "code",
   "execution_count": 9,
   "metadata": {},
   "outputs": [
    {
     "data": {
      "text/plain": [
       "KNeighborsRegressor(algorithm='auto', leaf_size=30, metric='minkowski',\n",
       "                    metric_params=None, n_jobs=-1, n_neighbors=10, p=1,\n",
       "                    weights='distance')"
      ]
     },
     "execution_count": 9,
     "metadata": {},
     "output_type": "execute_result"
    }
   ],
   "source": [
    "from sklearn.neighbors import KNeighborsRegressor\n",
    "KNN = KNeighborsRegressor(n_neighbors=10, weights='distance', p=1, n_jobs=-1)\n",
    "KNN.fit(Xtrain, ytrain)"
   ]
  },
  {
   "cell_type": "code",
   "execution_count": 10,
   "metadata": {},
   "outputs": [],
   "source": [
    "file = open('results.txt', 'a+') \n",
    "file.write(' KNN: '+str(mape(ytest, KNN.predict(Xtest)))+'\\n')\n",
    "file.close()"
   ]
  },
  {
   "cell_type": "markdown",
   "metadata": {},
   "source": [
    "### Random Forest"
   ]
  },
  {
   "cell_type": "code",
   "execution_count": 11,
   "metadata": {},
   "outputs": [
    {
     "data": {
      "text/plain": [
       "RandomForestRegressor(bootstrap=True, ccp_alpha=0.0, criterion='mse',\n",
       "                      max_depth=35, max_features='auto', max_leaf_nodes=None,\n",
       "                      max_samples=None, min_impurity_decrease=0.0,\n",
       "                      min_impurity_split=None, min_samples_leaf=1,\n",
       "                      min_samples_split=2, min_weight_fraction_leaf=0.0,\n",
       "                      n_estimators=200, n_jobs=-1, oob_score=False,\n",
       "                      random_state=None, verbose=0, warm_start=False)"
      ]
     },
     "execution_count": 11,
     "metadata": {},
     "output_type": "execute_result"
    }
   ],
   "source": [
    "from sklearn.ensemble import RandomForestRegressor\n",
    "RFR = RandomForestRegressor(n_estimators=200, max_depth=35, min_samples_split=2, min_samples_leaf=1, n_jobs=-1)\n",
    "RFR.fit(Xtrain,ytrain)"
   ]
  },
  {
   "cell_type": "code",
   "execution_count": 12,
   "metadata": {},
   "outputs": [],
   "source": [
    "file = open('results.txt', 'a+') \n",
    "file.write(' RFR: '+str(mape(ytest, RFR.predict(Xtest)))+'\\n')\n",
    "file.close()"
   ]
  },
  {
   "cell_type": "markdown",
   "metadata": {},
   "source": [
    "### Neural Network"
   ]
  },
  {
   "cell_type": "code",
   "execution_count": 13,
   "metadata": {},
   "outputs": [
    {
     "name": "stdout",
     "output_type": "stream",
     "text": [
      "Model: \"sequential\"\n",
      "_________________________________________________________________\n",
      "Layer (type)                 Output Shape              Param #   \n",
      "=================================================================\n",
      "dense (Dense)                (None, 1000)              8000      \n",
      "_________________________________________________________________\n",
      "dense_1 (Dense)              (None, 500)               500500    \n",
      "_________________________________________________________________\n",
      "dense_2 (Dense)              (None, 1)                 501       \n",
      "=================================================================\n",
      "Total params: 509,001\n",
      "Trainable params: 509,001\n",
      "Non-trainable params: 0\n",
      "_________________________________________________________________\n"
     ]
    }
   ],
   "source": [
    "# Neural network\n",
    "import tensorflow as tf\n",
    "s = len(Xtrain.columns)\n",
    "model = tf.keras.models.Sequential([\n",
    "    tf.keras.layers.Dense(1000, activation='relu', input_shape=(s,)),\n",
    "    tf.keras.layers.Dense(500, activation='relu'),\n",
    "    tf.keras.layers.Dense(1, activation='sigmoid')\n",
    "])\n",
    "model.compile(optimizer='adam', loss=tf.keras.losses.mean_absolute_error)\n",
    "model.build()\n",
    "model.summary()"
   ]
  },
  {
   "cell_type": "code",
   "execution_count": 14,
   "metadata": {},
   "outputs": [
    {
     "name": "stdout",
     "output_type": "stream",
     "text": [
      "Train on 200000 samples\n",
      "Epoch 1/10\n",
      "200000/200000 [==============================] - 21s 107us/sample - loss: 0.0286\n",
      "Epoch 2/10\n",
      "200000/200000 [==============================] - 20s 102us/sample - loss: 0.0274\n",
      "Epoch 3/10\n",
      "200000/200000 [==============================] - 20s 99us/sample - loss: 0.0272\n",
      "Epoch 4/10\n",
      "200000/200000 [==============================] - 20s 101us/sample - loss: 0.0271\n",
      "Epoch 5/10\n",
      "200000/200000 [==============================] - 20s 100us/sample - loss: 0.0270\n",
      "Epoch 6/10\n",
      "200000/200000 [==============================] - 20s 100us/sample - loss: 0.0269\n",
      "Epoch 7/10\n",
      "200000/200000 [==============================] - 20s 101us/sample - loss: 0.0269\n",
      "Epoch 8/10\n",
      "200000/200000 [==============================] - 21s 105us/sample - loss: 0.0269\n",
      "Epoch 9/10\n",
      "200000/200000 [==============================] - 21s 107us/sample - loss: 0.0268\n",
      "Epoch 10/10\n",
      "200000/200000 [==============================] - 22s 110us/sample - loss: 0.0268\n"
     ]
    },
    {
     "data": {
      "text/plain": [
       "<tensorflow.python.keras.callbacks.History at 0x7f0b80b07ed0>"
      ]
     },
     "execution_count": 14,
     "metadata": {},
     "output_type": "execute_result"
    }
   ],
   "source": [
    "model.fit(Xtrain.values, ytrain.values, epochs=10, batch_size=64)"
   ]
  },
  {
   "cell_type": "code",
   "execution_count": 15,
   "metadata": {},
   "outputs": [],
   "source": [
    "file = open('results.txt', 'a+') \n",
    "file.write(' NN: '+str(mape(ytest, np.concatenate(model.predict(Xtest.values), axis=0))))\n",
    "file.close()"
   ]
  }
 ],
 "metadata": {
  "kernelspec": {
   "display_name": "Python 3",
   "language": "python",
   "name": "python3"
  },
  "language_info": {
   "codemirror_mode": {
    "name": "ipython",
    "version": 3
   },
   "file_extension": ".py",
   "mimetype": "text/x-python",
   "name": "python",
   "nbconvert_exporter": "python",
   "pygments_lexer": "ipython3",
   "version": "3.7.6"
  }
 },
 "nbformat": 4,
 "nbformat_minor": 4
}
