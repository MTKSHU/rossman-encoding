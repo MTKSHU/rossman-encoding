{
 "cells": [
  {
   "cell_type": "code",
   "execution_count": 13,
   "metadata": {},
   "outputs": [],
   "source": [
    "import xgboost as xgb\n",
    "import numpy as np\n",
    "import pandas as pd"
   ]
  },
  {
   "cell_type": "code",
   "execution_count": 14,
   "metadata": {},
   "outputs": [],
   "source": [
    "# Metric\n",
    "def mape(y_true, y_pred): \n",
    "    # Mean Absolute Percentage Error (mape)\n",
    "    assert(min(y_true) > 0)\n",
    "    y_true, y_pred = np.array(y_true), np.array(y_pred)\n",
    "    relative_error = np.abs((y_true-y_pred)/y_true)\n",
    "    return np.sum(relative_error)/len(y_true)"
   ]
  },
  {
   "cell_type": "code",
   "execution_count": 15,
   "metadata": {},
   "outputs": [
    {
     "name": "stdout",
     "output_type": "stream",
     "text": [
      "Fitting completed in  32.65 sec\n"
     ]
    }
   ],
   "source": [
    "import time\n",
    "train = pd.read_csv('./unshuffled/train_unshuffled.csv', header=None)\n",
    "test = pd.read_csv('./unshuffled/test_unshuffled.csv', header=None)\n",
    "Xtrain = train[train.columns[:-1]]\n",
    "ytrain = train[train.columns[-1]]\n",
    "Xtest = test[test.columns[:-1]]\n",
    "ytest = test[test.columns[-1]]\n",
    "\n",
    "# One Hot Encoder\n",
    "try:\n",
    "    from category_encoders import OneHotEncoder\n",
    "    ohe = OneHotEncoder()\n",
    "except:\n",
    "    print(\"Module category_encoders not available\")\n",
    "\n",
    "# Fit encoder\n",
    "tic = time.perf_counter()\n",
    "Xtrain = ohe.fit_transform(Xtrain, ytrain)\n",
    "toc = time.perf_counter()\n",
    "print(\"Fitting completed in \",round(toc-tic,2), \"sec\")\n",
    "Xtest = ohe.transform(Xtest)"
   ]
  },
  {
   "cell_type": "code",
   "execution_count": null,
   "metadata": {},
   "outputs": [],
   "source": [
    "# Neural network\n",
    "import tensorflow as tf\n",
    "s = 1181\n",
    "model = tf.keras.models.Sequential([\n",
    "    tf.keras.layers.Dense(1000, activation='relu', input_shape=(s,)),\n",
    "    tf.keras.layers.Dense(500, activation='relu'),\n",
    "    tf.keras.layers.Dense(1, activation='sigmoid')\n",
    "])\n",
    "model.compile(optimizer='adam', loss=tf.keras.losses.mean_absolute_error)\n",
    "model.build()\n",
    "print(model.summary())\n",
    "model.fit(Xtrain.values, ytrain.values, epochs=10, batch_size=64)"
   ]
  },
  {
   "cell_type": "code",
   "execution_count": null,
   "metadata": {},
   "outputs": [],
   "source": [
    "file = open('results.txt', 'a+') \n",
    "file.write(' NN: '+str(mape(ytest, np.concatenate(model.predict(Xtest.values), axis=0))))\n",
    "file.close()"
   ]
  },
  {
   "cell_type": "markdown",
   "metadata": {},
   "source": [
    "### XGBOOST "
   ]
  },
  {
   "cell_type": "code",
   "execution_count": 21,
   "metadata": {},
   "outputs": [
    {
     "data": {
      "text/plain": [
       "<200000x1181 sparse matrix of type '<class 'numpy.longlong'>'\n",
       "\twith 1289030 stored elements in Compressed Sparse Row format>"
      ]
     },
     "execution_count": 21,
     "metadata": {},
     "output_type": "execute_result"
    }
   ],
   "source": [
    "# Sparsify \n",
    "from scipy.sparse import csr_matrix\n",
    "Xtrain = csr_matrix(Xtrain)\n",
    "Xtest = csr_matrix(Xtest)\n",
    "Xtrain"
   ]
  },
  {
   "cell_type": "code",
   "execution_count": 5,
   "metadata": {},
   "outputs": [],
   "source": [
    "dtrain = xgb.DMatrix(Xtrain, label=ytrain)\n",
    "dtest = Xtest\n",
    "cols = []\n",
    "for i in range(1181):\n",
    "    cols.append(str(i))\n",
    "dtest.columns = cols\n",
    "dtest = xgb.DMatrix(dtest, label=ytest)"
   ]
  },
  {
   "cell_type": "code",
   "execution_count": 6,
   "metadata": {},
   "outputs": [
    {
     "name": "stdout",
     "output_type": "stream",
     "text": [
      "[17:11:42] WARNING: src/objective/regression_obj.cu:152: reg:linear is now deprecated in favor of reg:squarederror.\n"
     ]
    }
   ],
   "source": [
    "# Parameters, taken from 'Entity Embeddings of Categorical Variables'\n",
    "param = {'max_depth': 10, 'eta': 0.02, 'objective': 'reg:linear', 'colsample_bytree': 0.7, 'subsample': 0.7}\n",
    "param['nthread'] = 8\n",
    "param['eval_metric'] = 'mae'\n",
    "param['verbosity'] = 1\n",
    "evallist = [(dtest, 'eval'), (dtrain, 'train')]\n",
    "# Training\n",
    "num_round = 3000\n",
    "bst = xgb.train(param, dtrain, num_round)#, early_stopping_rounds=100)#, evallist)\n",
    "#bst.save_model('xgboost_model')"
   ]
  },
  {
   "cell_type": "code",
   "execution_count": 7,
   "metadata": {},
   "outputs": [],
   "source": [
    "# Load model if trained earlier\n",
    "#bst = xgb.Booster({'nthread': 4})  # init model\n",
    "#bst.load_model('xgboost_model')  # load data\n",
    "# Evaluation on test data\n",
    "file = open('results.txt', 'a+') \n",
    "file.write(' xgboost: '+str(mape(ytest, bst.predict(dtest)))+'\\n')\n",
    "file.close()"
   ]
  },
  {
   "cell_type": "markdown",
   "metadata": {},
   "source": [
    "### KNN"
   ]
  },
  {
   "cell_type": "code",
   "execution_count": 8,
   "metadata": {},
   "outputs": [
    {
     "data": {
      "text/plain": [
       "KNeighborsRegressor(algorithm='auto', leaf_size=30, metric='minkowski',\n",
       "                    metric_params=None, n_jobs=-1, n_neighbors=10, p=1,\n",
       "                    weights='distance')"
      ]
     },
     "execution_count": 8,
     "metadata": {},
     "output_type": "execute_result"
    }
   ],
   "source": [
    "from sklearn.neighbors import KNeighborsRegressor\n",
    "KNN = KNeighborsRegressor(n_neighbors=10, weights='distance', p=1, n_jobs=-1)\n",
    "KNN.fit(Xtrain, ytrain)"
   ]
  },
  {
   "cell_type": "code",
   "execution_count": 9,
   "metadata": {},
   "outputs": [],
   "source": [
    "file = open('results.txt', 'a+') \n",
    "file.write(' KNN: '+str(mape(ytest, KNN.predict(Xtest)))+'\\n')\n",
    "file.close()"
   ]
  },
  {
   "cell_type": "markdown",
   "metadata": {},
   "source": [
    "### Random Forest"
   ]
  },
  {
   "cell_type": "code",
   "execution_count": 10,
   "metadata": {},
   "outputs": [
    {
     "data": {
      "text/plain": [
       "RandomForestRegressor(bootstrap=True, ccp_alpha=0.0, criterion='mse',\n",
       "                      max_depth=35, max_features='auto', max_leaf_nodes=None,\n",
       "                      max_samples=None, min_impurity_decrease=0.0,\n",
       "                      min_impurity_split=None, min_samples_leaf=1,\n",
       "                      min_samples_split=2, min_weight_fraction_leaf=0.0,\n",
       "                      n_estimators=200, n_jobs=-1, oob_score=False,\n",
       "                      random_state=None, verbose=0, warm_start=False)"
      ]
     },
     "execution_count": 10,
     "metadata": {},
     "output_type": "execute_result"
    }
   ],
   "source": [
    "from sklearn.ensemble import RandomForestRegressor\n",
    "RFR = RandomForestRegressor(n_estimators=200, max_depth=35, min_samples_split=2, min_samples_leaf=1, n_jobs=-1)\n",
    "RFR.fit(Xtrain,ytrain)"
   ]
  },
  {
   "cell_type": "code",
   "execution_count": 11,
   "metadata": {},
   "outputs": [],
   "source": [
    "file = open('results.txt', 'a+') \n",
    "file.write(' RFR: '+str(mape(ytest, RFR.predict(Xtest)))+'\\n')\n",
    "file.close()"
   ]
  }
 ],
 "metadata": {
  "kernelspec": {
   "display_name": "Python 3",
   "language": "python",
   "name": "python3"
  },
  "language_info": {
   "codemirror_mode": {
    "name": "ipython",
    "version": 3
   },
   "file_extension": ".py",
   "mimetype": "text/x-python",
   "name": "python",
   "nbconvert_exporter": "python",
   "pygments_lexer": "ipython3",
   "version": "3.7.6"
  }
 },
 "nbformat": 4,
 "nbformat_minor": 4
}
