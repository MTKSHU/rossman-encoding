{
 "cells": [
  {
   "cell_type": "code",
   "execution_count": 1,
   "metadata": {},
   "outputs": [],
   "source": [
    "import xgboost as xgb\n",
    "import numpy as np\n",
    "import pandas as pd\n",
    "import time\n",
    "import sys\n",
    "sys.path.append('./encoders/')\n",
    "# Load files\n",
    "train = pd.read_csv('./unshuffled/train_unshuffled.csv', header=None)\n",
    "test = pd.read_csv('./unshuffled/test_unshuffled.csv', header=None)"
   ]
  },
  {
   "cell_type": "code",
   "execution_count": 9,
   "metadata": {},
   "outputs": [],
   "source": [
    "# Metric\n",
    "def mape(y_true, y_pred): \n",
    "    # Mean Absolute Percentage Error (mape)\n",
    "    assert(min(y_true) > 0)\n",
    "    y_true, y_pred = np.array(y_true), np.array(y_pred)\n",
    "    relative_error = np.abs((y_true-y_pred)/y_true)\n",
    "    return np.sum(relative_error)/len(y_true)"
   ]
  },
  {
   "cell_type": "code",
   "execution_count": 14,
   "metadata": {},
   "outputs": [
    {
     "name": "stdout",
     "output_type": "stream",
     "text": [
      "Fitting completed in  330.94 sec\n"
     ]
    }
   ],
   "source": [
    "cat_cols = [0, 1, 2, 3, 4, 5, 6]\n",
    "Xtrain = train[train.columns[:-1]]\n",
    "ytrain = train[train.columns[-1]]\n",
    "Xtest = test[test.columns[:-1]]\n",
    "ytest = test[test.columns[-1]]\n",
    "\n",
    "# Entity Embedding Encoder\n",
    "from entities_embedding import EntityEmbeddingEncoder\n",
    "entity = EntityEmbeddingEncoder(epochs=10)\n",
    "\n",
    "# Fit encoder\n",
    "tic = time.perf_counter()\n",
    "Xtrain = entity.fit_transform(Xtrain, ytrain, cat_cols)\n",
    "toc = time.perf_counter()\n",
    "print(\"Fitting completed in \",round(toc-tic,2), \"sec\")\n",
    "Xtest = entity.transform(Xtest, cat_cols)"
   ]
  },
  {
   "cell_type": "markdown",
   "metadata": {},
   "source": [
    "### XGBOOST "
   ]
  },
  {
   "cell_type": "code",
   "execution_count": 15,
   "metadata": {},
   "outputs": [],
   "source": [
    "dtrain = xgb.DMatrix(Xtrain, label=ytrain)\n",
    "dtest = Xtest\n",
    "dtest.columns = ['0', '1', '2', '3', '4', '5', '6', '7', '8', '9', '10', '11',\n",
    "                '12', '13', '14', '15', '16', '17', '18', '19', '20', '21', '22',\n",
    "                '23', '24', '25', '26', '27', '28', '29', '30', '31', '32', '33',\n",
    "                '34', '35', '36', '37', '38', '39', '40', '41', '42', '43', '44',\n",
    "                '45', '46', '47', '48', '49', '50', '51', '52', '53']\n",
    "\n",
    "dtest = xgb.DMatrix(dtest, label=ytest)"
   ]
  },
  {
   "cell_type": "code",
   "execution_count": 16,
   "metadata": {},
   "outputs": [],
   "source": [
    "# Parameters, taken from 'Entity Embeddings of Categorical Variables'\n",
    "param = {'max_depth': 10, 'eta': 0.02, 'objective': 'reg:squarederror', 'colsample_bytree': 0.7, 'subsample': 0.7}\n",
    "param['nthread'] = 6\n",
    "param['eval_metric'] = 'mae'\n",
    "param['verbosity'] = 0\n",
    "evallist = [(dtest, 'eval'), (dtrain, 'train')]\n",
    "# Training\n",
    "num_round = 3000\n",
    "bst = xgb.train(param, dtrain, num_round)#, evallist)\n",
    "#bst.save_model('xgboost_model')"
   ]
  },
  {
   "cell_type": "code",
   "execution_count": 17,
   "metadata": {},
   "outputs": [],
   "source": [
    "# Load model if trained earlier\n",
    "#bst = xgb.Booster({'nthread': 4})  # init model\n",
    "#bst.load_model('xgboost_model')  # load data\n",
    "# Evaluation on test data\n",
    "file = open('results.txt', 'a+') \n",
    "file.write(' xgboost: '+str(mape(ytest, bst.predict(dtest)))+'\\n')\n",
    "file.close()"
   ]
  },
  {
   "cell_type": "markdown",
   "metadata": {},
   "source": [
    "### KNN"
   ]
  },
  {
   "cell_type": "code",
   "execution_count": 18,
   "metadata": {},
   "outputs": [
    {
     "data": {
      "text/plain": [
       "KNeighborsRegressor(algorithm='auto', leaf_size=30, metric='minkowski',\n",
       "                    metric_params=None, n_jobs=-1, n_neighbors=10, p=1,\n",
       "                    weights='distance')"
      ]
     },
     "execution_count": 18,
     "metadata": {},
     "output_type": "execute_result"
    }
   ],
   "source": [
    "from sklearn.neighbors import KNeighborsRegressor\n",
    "KNN = KNeighborsRegressor(n_neighbors=10, weights='distance', p=1, n_jobs=-1)\n",
    "KNN.fit(Xtrain, ytrain)"
   ]
  },
  {
   "cell_type": "code",
   "execution_count": 19,
   "metadata": {},
   "outputs": [],
   "source": [
    "file = open('results.txt', 'a+') \n",
    "file.write(' KNN: '+str(mape(ytest, KNN.predict(Xtest)))+'\\n')\n",
    "file.close()"
   ]
  },
  {
   "cell_type": "markdown",
   "metadata": {},
   "source": [
    "### Random Forest"
   ]
  },
  {
   "cell_type": "code",
   "execution_count": 20,
   "metadata": {},
   "outputs": [
    {
     "data": {
      "text/plain": [
       "RandomForestRegressor(bootstrap=True, ccp_alpha=0.0, criterion='mse',\n",
       "                      max_depth=35, max_features='auto', max_leaf_nodes=None,\n",
       "                      max_samples=None, min_impurity_decrease=0.0,\n",
       "                      min_impurity_split=None, min_samples_leaf=1,\n",
       "                      min_samples_split=2, min_weight_fraction_leaf=0.0,\n",
       "                      n_estimators=200, n_jobs=-1, oob_score=False,\n",
       "                      random_state=None, verbose=0, warm_start=False)"
      ]
     },
     "execution_count": 20,
     "metadata": {},
     "output_type": "execute_result"
    }
   ],
   "source": [
    "from sklearn.ensemble import RandomForestRegressor\n",
    "RFR = RandomForestRegressor(n_estimators=200, max_depth=35, min_samples_split=2, min_samples_leaf=1, n_jobs=-1)\n",
    "RFR.fit(Xtrain,ytrain)"
   ]
  },
  {
   "cell_type": "code",
   "execution_count": 21,
   "metadata": {},
   "outputs": [],
   "source": [
    "file = open('results.txt', 'a+') \n",
    "file.write(' RFR: '+str(mape(ytest, RFR.predict(Xtest)))+'\\n')\n",
    "file.close()"
   ]
  },
  {
   "cell_type": "markdown",
   "metadata": {},
   "source": [
    "## Following \"Entity Embeddings of categorical variables\" the predictions are the average prediction over 5 neural networks"
   ]
  },
  {
   "cell_type": "code",
   "execution_count": 3,
   "metadata": {},
   "outputs": [],
   "source": [
    "# Entity Embedding Encoder\n",
    "from entities_embedding import EntityEmbeddingEncoder\n",
    "def train_and_predict(X,y,Xt):\n",
    "    entity = EntityEmbeddingEncoder(epochs=10) \n",
    "    entity.fit(X,y)\n",
    "    return np.concatenate(entity.model.predict(entity.burst_and_ohencode(Xt)), axis=0)\n",
    "\n",
    "# Datasets\n",
    "X = pd.DataFrame(train[train.columns[:-1]].values)\n",
    "y = pd.Series(train[train.columns[-1]].values)\n",
    "Xt = pd.DataFrame(test[test.columns[:-1]].values)\n",
    "yt = pd.Series(test[test.columns[-1]].values)\n",
    "\n",
    "# Get the predictions of five models\n",
    "predictions = []\n",
    "for i in range(5):\n",
    "    predictions.append(train_and_predict(X,y,Xt))"
   ]
  },
  {
   "cell_type": "code",
   "execution_count": 13,
   "metadata": {},
   "outputs": [],
   "source": [
    "# Calculate mean predictions as final predictions\n",
    "mean_predictions = np.mean(predictions, axis=0)\n",
    "file = open('results.txt', 'a+') \n",
    "file.write(' NN: '+str(mape(yt, mean_predictions))+'\\n')\n",
    "file.close()"
   ]
  }
 ],
 "metadata": {
  "kernelspec": {
   "display_name": "Python 3",
   "language": "python",
   "name": "python3"
  },
  "language_info": {
   "codemirror_mode": {
    "name": "ipython",
    "version": 3
   },
   "file_extension": ".py",
   "mimetype": "text/x-python",
   "name": "python",
   "nbconvert_exporter": "python",
   "pygments_lexer": "ipython3",
   "version": "3.7.6"
  }
 },
 "nbformat": 4,
 "nbformat_minor": 4
}
